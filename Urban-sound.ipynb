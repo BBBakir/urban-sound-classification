{
  "cells": [
    {
      "cell_type": "code",
      "execution_count": 1,
      "metadata": {
        "id": "MsdM61k_T3H9"
      },
      "outputs": [],
      "source": [
        "import tensorflow as tf\n",
        "from keras.preprocessing.image import ImageDataGenerator\n",
        "from google.colab import drive"
      ]
    },
    {
      "cell_type": "code",
      "execution_count": 2,
      "metadata": {
        "colab": {
          "base_uri": "https://localhost:8080/",
          "height": 36
        },
        "id": "m8YP8L3HbGDY",
        "outputId": "fd70cee8-f665-4f0f-ef9e-0895bf8d9170"
      },
      "outputs": [
        {
          "output_type": "execute_result",
          "data": {
            "text/plain": [
              "'2.8.2'"
            ],
            "application/vnd.google.colaboratory.intrinsic+json": {
              "type": "string"
            }
          },
          "metadata": {},
          "execution_count": 2
        }
      ],
      "source": [
        "tf.__version__"
      ]
    },
    {
      "cell_type": "markdown",
      "metadata": {
        "id": "KbxEd8eVbJSs"
      },
      "source": [
        "## Part 1 - Data Preprocessing"
      ]
    },
    {
      "cell_type": "code",
      "execution_count": 3,
      "metadata": {
        "colab": {
          "base_uri": "https://localhost:8080/"
        },
        "id": "QKjpNcAXbYTd",
        "outputId": "d652cc14-c582-496b-93b8-a143258916a5"
      },
      "outputs": [
        {
          "output_type": "stream",
          "name": "stdout",
          "text": [
            "Found 8732 files belonging to 10 classes.\n",
            "Using 6986 files for training.\n",
            "Found 8732 files belonging to 10 classes.\n",
            "Using 1746 files for validation.\n"
          ]
        }
      ],
      "source": [
        "data_set = tf.keras.preprocessing.image_dataset_from_directory(\n",
        "    '/content/drive/MyDrive/Colab Notebooks/Spectograms/spectrograms',\n",
        "    labels=\"inferred\",\n",
        "    label_mode=\"int\",\n",
        "    color_mode=\"grayscale\",\n",
        "    batch_size=32,\n",
        "    image_size=(64, 64),\n",
        "    seed=64,\n",
        "    shuffle=True,\n",
        "    subset='training',\n",
        "    validation_split=0.2\n",
        ")\n",
        "\n",
        "data_set_v = tf.keras.preprocessing.image_dataset_from_directory(\n",
        "    '/content/drive/MyDrive/Colab Notebooks/Spectograms/spectrograms',\n",
        "    labels=\"inferred\",\n",
        "    label_mode=\"int\",\n",
        "    color_mode=\"grayscale\",\n",
        "    batch_size=32,\n",
        "    image_size=(64, 64),\n",
        "    seed=64,\n",
        "    shuffle=True,\n",
        "    subset='validation',\n",
        "    validation_split=0.2\n",
        ")"
      ]
    },
    {
      "cell_type": "markdown",
      "source": [
        "\n",
        "\n",
        "\n",
        "## Part 2 -CNN Model\n",
        "\n",
        "\n"
      ],
      "metadata": {
        "id": "xl8PGANc6Gw_"
      }
    },
    {
      "cell_type": "code",
      "execution_count": 4,
      "metadata": {
        "id": "jQ6ldjOwf_Oy"
      },
      "outputs": [],
      "source": [
        "cnn = tf.keras.models.Sequential()"
      ]
    },
    {
      "cell_type": "code",
      "execution_count": 5,
      "metadata": {
        "id": "WaBYkBiSgp9X"
      },
      "outputs": [],
      "source": [
        "cnn.add(tf.keras.layers.Conv2D(filters=128, kernel_size=3, activation='relu', input_shape=[64, 64, 1]))\n",
        "cnn.add(tf.keras.layers.MaxPool2D(pool_size=2, strides=2))"
      ]
    },
    {
      "cell_type": "code",
      "source": [
        "cnn.add(tf.keras.layers.Conv2D(filters=64, kernel_size=3, activation='relu'))\n",
        "cnn.add(tf.keras.layers.MaxPool2D(pool_size=2, strides=2))"
      ],
      "metadata": {
        "id": "Xi7X96JZFX7h"
      },
      "execution_count": 6,
      "outputs": []
    },
    {
      "cell_type": "code",
      "source": [
        "cnn.add(tf.keras.layers.Conv2D(filters=64, kernel_size=3, activation='relu'))\n",
        "cnn.add(tf.keras.layers.MaxPool2D(pool_size=2, strides=2))"
      ],
      "metadata": {
        "id": "MSBnfOeiFY__"
      },
      "execution_count": 7,
      "outputs": []
    },
    {
      "cell_type": "code",
      "source": [
        "cnn.add(tf.keras.layers.Flatten())"
      ],
      "metadata": {
        "id": "Ivo8yFsfFaBk"
      },
      "execution_count": 8,
      "outputs": []
    },
    {
      "cell_type": "code",
      "source": [
        "cnn.add(tf.keras.layers.Dense(units=128, activation='relu'))\n",
        "cnn.add(tf.keras.layers.Dropout(0.5))"
      ],
      "metadata": {
        "id": "IJfo1AFpFb0Y"
      },
      "execution_count": 9,
      "outputs": []
    },
    {
      "cell_type": "code",
      "source": [
        "cnn.add(tf.keras.layers.Dense(units=128, activation='relu'))\n",
        "cnn.add(tf.keras.layers.Dropout(0.5))"
      ],
      "metadata": {
        "id": "-nWkNkqjFdAY"
      },
      "execution_count": 10,
      "outputs": []
    },
    {
      "cell_type": "code",
      "source": [
        "cnn.add(tf.keras.layers.Dense(10, activation=\"softmax\"))"
      ],
      "metadata": {
        "id": "hwtE5lmuFd8s"
      },
      "execution_count": 11,
      "outputs": []
    },
    {
      "cell_type": "code",
      "execution_count": 12,
      "metadata": {
        "id": "SFSNtbLBg00n"
      },
      "outputs": [],
      "source": [
        "cnn.compile(optimizer = 'adam', loss = 'sparse_categorical_crossentropy', metrics = ['accuracy'])"
      ]
    },
    {
      "cell_type": "code",
      "execution_count": 13,
      "metadata": {
        "id": "Ok53AHwJF8SB"
      },
      "outputs": [],
      "source": [
        "from tensorflow.keras.callbacks import EarlyStopping\n",
        "early_stop = EarlyStopping(monitor = \"val_loss\", mode = \"min\", verbose = 1, patience = 5)"
      ]
    },
    {
      "cell_type": "code",
      "execution_count": 14,
      "metadata": {
        "colab": {
          "base_uri": "https://localhost:8080/"
        },
        "id": "G8IudWGng-2S",
        "outputId": "8495744b-26f0-42b4-91ad-68962e9eb022"
      },
      "outputs": [
        {
          "output_type": "stream",
          "name": "stdout",
          "text": [
            "Epoch 1/50\n",
            "219/219 [==============================] - 608s 3s/step - loss: 2.1981 - accuracy: 0.2121 - val_loss: 1.7684 - val_accuracy: 0.3677\n",
            "Epoch 2/50\n",
            "219/219 [==============================] - 163s 737ms/step - loss: 1.8048 - accuracy: 0.3350 - val_loss: 1.5122 - val_accuracy: 0.4794\n",
            "Epoch 3/50\n",
            "219/219 [==============================] - 163s 737ms/step - loss: 1.5249 - accuracy: 0.4410 - val_loss: 1.2801 - val_accuracy: 0.5636\n",
            "Epoch 4/50\n",
            "219/219 [==============================] - 164s 741ms/step - loss: 1.3206 - accuracy: 0.5147 - val_loss: 1.1047 - val_accuracy: 0.6105\n",
            "Epoch 5/50\n",
            "219/219 [==============================] - 163s 740ms/step - loss: 1.1533 - accuracy: 0.5769 - val_loss: 0.9823 - val_accuracy: 0.6695\n",
            "Epoch 6/50\n",
            "219/219 [==============================] - 164s 744ms/step - loss: 1.0415 - accuracy: 0.6287 - val_loss: 0.9551 - val_accuracy: 0.6804\n",
            "Epoch 7/50\n",
            "219/219 [==============================] - 163s 737ms/step - loss: 0.9482 - accuracy: 0.6643 - val_loss: 0.8962 - val_accuracy: 0.7331\n",
            "Epoch 8/50\n",
            "219/219 [==============================] - 162s 735ms/step - loss: 0.8447 - accuracy: 0.7030 - val_loss: 0.8438 - val_accuracy: 0.7446\n",
            "Epoch 9/50\n",
            "219/219 [==============================] - 161s 730ms/step - loss: 0.7646 - accuracy: 0.7378 - val_loss: 0.7560 - val_accuracy: 0.7726\n",
            "Epoch 10/50\n",
            "219/219 [==============================] - 163s 739ms/step - loss: 0.7195 - accuracy: 0.7525 - val_loss: 0.8200 - val_accuracy: 0.7526\n",
            "Epoch 11/50\n",
            "219/219 [==============================] - 163s 739ms/step - loss: 0.6658 - accuracy: 0.7773 - val_loss: 0.7446 - val_accuracy: 0.7847\n",
            "Epoch 12/50\n",
            "219/219 [==============================] - 165s 749ms/step - loss: 0.6028 - accuracy: 0.7967 - val_loss: 0.8555 - val_accuracy: 0.7428\n",
            "Epoch 13/50\n",
            "219/219 [==============================] - 163s 739ms/step - loss: 0.5625 - accuracy: 0.8096 - val_loss: 0.7446 - val_accuracy: 0.7829\n",
            "Epoch 14/50\n",
            "219/219 [==============================] - 201s 914ms/step - loss: 0.5355 - accuracy: 0.8192 - val_loss: 0.7492 - val_accuracy: 0.7732\n",
            "Epoch 15/50\n",
            "219/219 [==============================] - 163s 739ms/step - loss: 0.4605 - accuracy: 0.8476 - val_loss: 0.7209 - val_accuracy: 0.7995\n",
            "Epoch 16/50\n",
            "219/219 [==============================] - 166s 750ms/step - loss: 0.4855 - accuracy: 0.8425 - val_loss: 0.7271 - val_accuracy: 0.8041\n",
            "Epoch 17/50\n",
            "219/219 [==============================] - 163s 739ms/step - loss: 0.4640 - accuracy: 0.8554 - val_loss: 0.7317 - val_accuracy: 0.8018\n",
            "Epoch 18/50\n",
            "219/219 [==============================] - 165s 747ms/step - loss: 0.3909 - accuracy: 0.8705 - val_loss: 0.7390 - val_accuracy: 0.8167\n",
            "Epoch 19/50\n",
            "219/219 [==============================] - 164s 744ms/step - loss: 0.3817 - accuracy: 0.8703 - val_loss: 0.7394 - val_accuracy: 0.8047\n",
            "Epoch 20/50\n",
            "219/219 [==============================] - 164s 741ms/step - loss: 0.3665 - accuracy: 0.8803 - val_loss: 0.8290 - val_accuracy: 0.8024\n",
            "Epoch 20: early stopping\n"
          ]
        },
        {
          "output_type": "execute_result",
          "data": {
            "text/plain": [
              "<keras.callbacks.History at 0x7f9f44273090>"
            ]
          },
          "metadata": {},
          "execution_count": 14
        }
      ],
      "source": [
        "cnn.fit(\n",
        "    x = data_set,\n",
        "    validation_data = data_set_v,\n",
        "    batch_size = 128,\n",
        "    verbose=1,\n",
        "    epochs = 50,\n",
        "    callbacks = [early_stop]\n",
        ")"
      ]
    },
    {
      "cell_type": "code",
      "source": [
        "import pandas as pd\n",
        "import matplotlib.pyplot as plt\n",
        "import seaborn as sns"
      ],
      "metadata": {
        "id": "Ao4kbYwR7QW3"
      },
      "execution_count": 15,
      "outputs": []
    },
    {
      "cell_type": "code",
      "source": [
        "plt.plot(cnn.history.history[\"loss\"], label = \"loss\")\n",
        "plt.plot(cnn.history.history[\"val_loss\"], label = \"val_loss\")\n",
        "\n",
        "plt.xlabel(\"Epoch\")\n",
        "plt.ylabel(\"loss\")\n",
        "\n",
        "plt.legend()\n",
        "\n",
        "plt.show()"
      ],
      "metadata": {
        "colab": {
          "base_uri": "https://localhost:8080/",
          "height": 279
        },
        "id": "eA4WvLx57Frx",
        "outputId": "04116c52-ce88-4756-abd1-7f5e09abb463"
      },
      "execution_count": 18,
      "outputs": [
        {
          "output_type": "display_data",
          "data": {
            "text/plain": [
              "<Figure size 432x288 with 1 Axes>"
            ],
            "image/png": "[encoded data removed]"
          },
          "metadata": {
            "needs_background": "light"
          }
        }
      ]
    },
    {
      "cell_type": "code",
      "source": [
        "plt.plot(cnn.history.history[\"accuracy\"], label = \"accuracy\")\n",
        "plt.plot(cnn.history.history[\"val_accuracy\"], label = \"val_accuracy\")\n",
        "\n",
        "plt.xlabel(\"Epoch\")\n",
        "plt.ylabel(\"accuracy\")\n",
        "\n",
        "plt.legend()\n",
        "\n",
        "plt.show()"
      ],
      "metadata": {
        "colab": {
          "base_uri": "https://localhost:8080/",
          "height": 279
        },
        "id": "dcsqgQiq7HYN",
        "outputId": "f75ac838-1623-4cc3-edf9-ec5af62970f2"
      },
      "execution_count": 19,
      "outputs": [
        {
          "output_type": "display_data",
          "data": {
            "text/plain": [
              "<Figure size 432x288 with 1 Axes>"
            ],
            "image/png": "[encoded data removed]"
          },
          "metadata": {
            "needs_background": "light"
          }
        }
      ]
    }
  ],
  "metadata": {
    "colab": {
      "collapsed_sections": [],
      "provenance": []
    },
    "kernelspec": {
      "display_name": "Python 3",
      "name": "python3"
    },
    "language_info": {
      "name": "python"
    }
  },
  "nbformat": 4,
  "nbformat_minor": 0
}